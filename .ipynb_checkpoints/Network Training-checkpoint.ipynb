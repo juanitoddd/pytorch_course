{
 "cells": [
  {
   "cell_type": "markdown",
   "metadata": {},
   "source": [
    "# Training Process\n",
    "\n",
    "- 1 Get batch from training set\n",
    "- 2 Pass batch to the Network\n",
    "- 3 Calculate the Loss (Diff between predicted values and true values)\n",
    "- 4 Calculate the Gradient of the Loss function w.r.t the network weights ( Back Propagation )\n",
    "- 5 Update the weights using the gradients to reduce the loss \n",
    "- 6 Repeat steps 1 - 5 until one Epoch is completed\n",
    "- 7 Repeat steps 1 - 6 for as many epochs required to obtain the level of accuracy"
   ]
  },
  {
   "cell_type": "code",
   "execution_count": null,
   "metadata": {},
   "outputs": [],
   "source": []
  }
 ],
 "metadata": {
  "kernelspec": {
   "display_name": "pytorch",
   "language": "python",
   "name": "pytorch"
  },
  "language_info": {
   "codemirror_mode": {
    "name": "ipython",
    "version": 3
   },
   "file_extension": ".py",
   "mimetype": "text/x-python",
   "name": "python",
   "nbconvert_exporter": "python",
   "pygments_lexer": "ipython3",
   "version": "3.7.9"
  }
 },
 "nbformat": 4,
 "nbformat_minor": 2
}
